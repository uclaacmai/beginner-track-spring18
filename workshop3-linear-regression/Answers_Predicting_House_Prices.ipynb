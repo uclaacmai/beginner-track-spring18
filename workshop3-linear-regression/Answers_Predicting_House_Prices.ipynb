{
  "nbformat": 4,
  "nbformat_minor": 0,
  "metadata": {
    "colab": {
      "name": "Answers_Predicting_House_Prices.ipynb",
      "version": "0.3.2",
      "views": {},
      "default_view": {},
      "provenance": [],
      "collapsed_sections": []
    },
    "kernelspec": {
      "name": "python3",
      "display_name": "Python 3"
    }
  },
  "cells": [
    {
      "metadata": {
        "id": "L_h2o5nY0kBo",
        "colab_type": "text"
      },
      "cell_type": "markdown",
      "source": [
        "# Predicting House Prices\n",
        "\n",
        "<img src=\"https://upload.wikimedia.org/wikipedia/commons/c/cc/Street_scape_in_Boston-Edison.jpg\" width=400/>\n",
        "\n",
        "Today we are going to building a **linear regression** model to predict house prices in Boston.\n",
        "\n",
        "#### Review: Unsupervised vs Supervised Learning\n",
        "*   Supervised learning uses existing inputs and outputs to create a mapping function from inputs to outputs\n",
        "  * Can be used for regression problems, where outputs are continuous, or classification problems, where output is discrete\n",
        "*   Unsupervised learning finds relationships and clusters in input data\n",
        "\n",
        "We use the hypothesis function\n",
        "\n",
        "$$h(x^{i}) = w^{T}x^{i} + b$$\n",
        "\n",
        "to make an output prediction for each training example, representing the expected price of a house. We use the following loss function to calculate how accurate our prediction is:\n",
        "\n",
        "$$Loss = L(y^{i} , a^{i}) = \\frac{1}{2}(a^{i} - y^{i})^{2}$$\n",
        "\n",
        "Then, we apply gradient descent to optimize our weights.\n",
        "\n",
        "#### Some of the things you will learn\n",
        "* General architecture of a learning algorithm\n",
        "* initializing parameters\n",
        "* doing forward propagation\n",
        "* calculating the cost function\n",
        "* doing back propagation with gradient descent\n",
        "\n",
        "#### Instructions\n",
        "1. You will write your code between \n",
        "```python \n",
        "### START CODE HERE ###\n",
        "```\n",
        "```python \n",
        "### END CODE HERE ###\n",
        "```\n",
        "\n",
        "2. Do not use any loops (the necessary loop is included for you!)\n",
        "\n",
        "## Packages\n",
        "First let's import some libraries\n",
        "* [scikit-learn](http://scikit-learn.org/stable/) is used to get our dataset\n",
        "* [numpy](http://www.numpy.org/) is used for scientific computing\n",
        "* [matplotlib](https://matplotlib.org/) is used for plotting data\n",
        "* [pandas](https://pandas.pydata.org/) is used for data processing and analysis\n",
        "* [seaborn](https://seaborn.pydata.org/) is used for statistical data visualization"
      ]
    },
    {
      "metadata": {
        "id": "wz1ekdOW0uZV",
        "colab_type": "code",
        "colab": {
          "autoexec": {
            "startup": false,
            "wait_interval": 0
          }
        }
      },
      "cell_type": "code",
      "source": [
        "from sklearn.datasets import load_boston\n",
        "from sklearn.model_selection import train_test_split\n",
        "import matplotlib.pyplot as plt\n",
        "import seaborn as sns\n",
        "import numpy as np\n",
        "import pandas as pd"
      ],
      "execution_count": 0,
      "outputs": []
    },
    {
      "metadata": {
        "id": "GDhtIYE4cyXQ",
        "colab_type": "text"
      },
      "cell_type": "markdown",
      "source": [
        "## Data Visualization\n",
        "\n",
        "Let's take a look at the data we have to work with."
      ]
    },
    {
      "metadata": {
        "id": "fKiD7zcJc9z8",
        "colab_type": "code",
        "colab": {
          "autoexec": {
            "startup": false,
            "wait_interval": 0
          },
          "base_uri": "https://localhost:8080/",
          "height": 124
        },
        "outputId": "72a89546-a1b3-4819-8277-8cc5ba33dc30",
        "executionInfo": {
          "status": "ok",
          "timestamp": 1524934179706,
          "user_tz": 420,
          "elapsed": 273,
          "user": {
            "displayName": "Aaron Philip",
            "photoUrl": "//lh6.googleusercontent.com/-uvaDsL_nsn4/AAAAAAAAAAI/AAAAAAAAAAA/hK8D1PJTd7c/s50-c-k-no/photo.jpg",
            "userId": "108598294357875037151"
          }
        }
      },
      "cell_type": "code",
      "source": [
        "boston = load_boston()\n",
        "bos = pd.DataFrame(boston.data)\n",
        "bos.columns = boston.feature_names\n",
        "bos = bos.drop('B', axis = 1)\n",
        "bos['PRICE'] = boston.target\n",
        "pd.options.display.width = 300\n",
        "print(bos.head())\n"
      ],
      "execution_count": 4,
      "outputs": [
        {
          "output_type": "stream",
          "text": [
            "      CRIM    ZN  INDUS  CHAS    NOX     RM   AGE     DIS  RAD    TAX  PTRATIO  LSTAT  PRICE\n",
            "0  0.00632  18.0   2.31   0.0  0.538  6.575  65.2  4.0900  1.0  296.0     15.3   4.98   24.0\n",
            "1  0.02731   0.0   7.07   0.0  0.469  6.421  78.9  4.9671  2.0  242.0     17.8   9.14   21.6\n",
            "2  0.02729   0.0   7.07   0.0  0.469  7.185  61.1  4.9671  2.0  242.0     17.8   4.03   34.7\n",
            "3  0.03237   0.0   2.18   0.0  0.458  6.998  45.8  6.0622  3.0  222.0     18.7   2.94   33.4\n",
            "4  0.06905   0.0   2.18   0.0  0.458  7.147  54.2  6.0622  3.0  222.0     18.7   5.33   36.2\n"
          ],
          "name": "stdout"
        }
      ]
    },
    {
      "metadata": {
        "id": "B8-AxRNvCTtC",
        "colab_type": "text"
      },
      "cell_type": "markdown",
      "source": [
        "         CRIM      per capita crime rate by town\n",
        "         ZN        proportion of residential land zoned for lots over 25,000 sq.ft.\n",
        "         INDUS     proportion of non-retail business acres per town\n",
        "         CHAS      Charles River dummy variable (= 1 if tract bounds river; 0 otherwise)\n",
        "         NOX       nitric oxides concentration (parts per 10 million)\n",
        "         RM        average number of rooms per dwelling\n",
        "         AGE       proportion of owner-occupied units built prior to 1940\n",
        "         DIS       weighted distances to five Boston employment centres\n",
        "         RAD       index of accessibility to radial highways\n",
        "         TAX       full-value property-tax rate per $10,000\n",
        "     PTRATIO   pupil-teacher ratio by town\n",
        "     LSTAT     % lower status of the population\n",
        "     MEDV      Median value of owner-occupied homes in $1000's"
      ]
    },
    {
      "metadata": {
        "id": "3BSgGkVtGBpa",
        "colab_type": "code",
        "colab": {
          "autoexec": {
            "startup": false,
            "wait_interval": 0
          },
          "base_uri": "https://localhost:8080/",
          "height": 379
        },
        "outputId": "0eff5634-1b66-44d8-dfa4-1b6fd23bf1ad",
        "executionInfo": {
          "status": "ok",
          "timestamp": 1524934180705,
          "user_tz": 420,
          "elapsed": 431,
          "user": {
            "displayName": "Aaron Philip",
            "photoUrl": "//lh6.googleusercontent.com/-uvaDsL_nsn4/AAAAAAAAAAI/AAAAAAAAAAA/hK8D1PJTd7c/s50-c-k-no/photo.jpg",
            "userId": "108598294357875037151"
          }
        }
      },
      "cell_type": "code",
      "source": [
        "# See the general trend in the prices\n",
        "\n",
        "sns.distplot(bos['PRICE'])"
      ],
      "execution_count": 5,
      "outputs": [
        {
          "output_type": "execute_result",
          "data": {
            "text/plain": [
              "<matplotlib.axes._subplots.AxesSubplot at 0x7f950c7c14e0>"
            ]
          },
          "metadata": {
            "tags": []
          },
          "execution_count": 5
        },
        {
          "output_type": "display_data",
          "data": {
            "image/png": "[encoded data removed]",
            "text/plain": [
              "<matplotlib.figure.Figure at 0x7f950defde80>"
            ]
          },
          "metadata": {
            "tags": []
          }
        }
      ]
    },
    {
      "metadata": {
        "id": "Ck-Ofh0I6dr8",
        "colab_type": "code",
        "colab": {
          "autoexec": {
            "startup": false,
            "wait_interval": 0
          },
          "base_uri": "https://localhost:8080/",
          "height": 361
        },
        "outputId": "cb9df878-035b-476d-d916-4d4c0a6f31df",
        "executionInfo": {
          "status": "ok",
          "timestamp": 1524934181226,
          "user_tz": 420,
          "elapsed": 457,
          "user": {
            "displayName": "Aaron Philip",
            "photoUrl": "//lh6.googleusercontent.com/-uvaDsL_nsn4/AAAAAAAAAAI/AAAAAAAAAAA/hK8D1PJTd7c/s50-c-k-no/photo.jpg",
            "userId": "108598294357875037151"
          }
        }
      },
      "cell_type": "code",
      "source": [
        "# Plotting simple relations\n",
        "# Relation between Crime rate and Price:\n",
        "\n",
        "plt.plot(bos.iloc[::10, :]['PRICE'].sort_values(), bos.iloc[::10, :].sort_values('PRICE')['CRIM']*100)\n",
        "plt.xlabel('House price in $1000s')\n",
        "plt.ylabel('Crime Rate')\n",
        "plt.show()\n"
      ],
      "execution_count": 6,
      "outputs": [
        {
          "output_type": "display_data",
          "data": {
            "image/png": "[encoded data removed]",
            "text/plain": [
              "<matplotlib.figure.Figure at 0x7f950c04fd30>"
            ]
          },
          "metadata": {
            "tags": []
          }
        }
      ]
    },
    {
      "metadata": {
        "id": "-77RXyFTD6_8",
        "colab_type": "code",
        "colab": {
          "autoexec": {
            "startup": false,
            "wait_interval": 0
          },
          "base_uri": "https://localhost:8080/",
          "height": 376
        },
        "outputId": "cba6305d-7eff-466b-ff78-04e4d9ac76ca",
        "executionInfo": {
          "status": "ok",
          "timestamp": 1524934182047,
          "user_tz": 420,
          "elapsed": 445,
          "user": {
            "displayName": "Aaron Philip",
            "photoUrl": "//lh6.googleusercontent.com/-uvaDsL_nsn4/AAAAAAAAAAI/AAAAAAAAAAA/hK8D1PJTd7c/s50-c-k-no/photo.jpg",
            "userId": "108598294357875037151"
          }
        }
      },
      "cell_type": "code",
      "source": [
        "\n",
        "# Relation between Age of the house and Price\n",
        "plt.plot(bos.iloc[::20, :]['PRICE'].sort_values(), bos.iloc[::20, :].sort_values('PRICE')['AGE'])\n",
        "plt.xlabel('House price in $1000s')\n",
        "plt.ylabel('Age')\n",
        "plt.title('Age Vs. Price')\n",
        "plt.show()"
      ],
      "execution_count": 7,
      "outputs": [
        {
          "output_type": "display_data",
          "data": {
            "image/png": "[encoded data removed]",
            "text/plain": [
              "<matplotlib.figure.Figure at 0x7f950a028c50>"
            ]
          },
          "metadata": {
            "tags": []
          }
        }
      ]
    },
    {
      "metadata": {
        "id": "CIxlsLT9GhIj",
        "colab_type": "code",
        "colab": {
          "autoexec": {
            "startup": false,
            "wait_interval": 0
          },
          "base_uri": "https://localhost:8080/",
          "height": 846
        },
        "outputId": "87b3ca3c-e02b-479f-adcf-91ca242e0a94",
        "executionInfo": {
          "status": "ok",
          "timestamp": 1524934183421,
          "user_tz": 420,
          "elapsed": 942,
          "user": {
            "displayName": "Aaron Philip",
            "photoUrl": "//lh6.googleusercontent.com/-uvaDsL_nsn4/AAAAAAAAAAI/AAAAAAAAAAA/hK8D1PJTd7c/s50-c-k-no/photo.jpg",
            "userId": "108598294357875037151"
          }
        }
      },
      "cell_type": "code",
      "source": [
        "# Pairwise Correlation between the features\n",
        "\n",
        "\n",
        "current_palette = sns.color_palette()\n",
        "corr=bos.iloc[:,[0,5,6,8,10,12]].corr()\n",
        "\n",
        "plt.figure(figsize=(15, 15))\n",
        "\n",
        "sns.heatmap(corr, vmax=.8, linewidths=0.01, square=True,annot=True,cmap='YlGnBu',linecolor=\"white\")\n",
        "plt.title('Correlation between features');"
      ],
      "execution_count": 8,
      "outputs": [
        {
          "output_type": "display_data",
          "data": {
            "image/png": "[encoded data removed]",
            "text/plain": [
              "<matplotlib.figure.Figure at 0x7f9509f406d8>"
            ]
          },
          "metadata": {
            "tags": []
          }
        }
      ]
    },
    {
      "metadata": {
        "id": "im1KIBeldAVo",
        "colab_type": "code",
        "colab": {
          "autoexec": {
            "startup": false,
            "wait_interval": 0
          },
          "base_uri": "https://localhost:8080/",
          "height": 177
        },
        "outputId": "341d834d-8120-41d5-ca98-998d31c255d5",
        "executionInfo": {
          "status": "ok",
          "timestamp": 1524934183718,
          "user_tz": 420,
          "elapsed": 264,
          "user": {
            "displayName": "Aaron Philip",
            "photoUrl": "//lh6.googleusercontent.com/-uvaDsL_nsn4/AAAAAAAAAAI/AAAAAAAAAAA/hK8D1PJTd7c/s50-c-k-no/photo.jpg",
            "userId": "108598294357875037151"
          }
        }
      },
      "cell_type": "code",
      "source": [
        "print(bos.describe())"
      ],
      "execution_count": 9,
      "outputs": [
        {
          "output_type": "stream",
          "text": [
            "             CRIM          ZN       INDUS        CHAS         NOX          RM         AGE         DIS         RAD         TAX     PTRATIO       LSTAT       PRICE\n",
            "count  506.000000  506.000000  506.000000  506.000000  506.000000  506.000000  506.000000  506.000000  506.000000  506.000000  506.000000  506.000000  506.000000\n",
            "mean     3.593761   11.363636   11.136779    0.069170    0.554695    6.284634   68.574901    3.795043    9.549407  408.237154   18.455534   12.653063   22.532806\n",
            "std      8.596783   23.322453    6.860353    0.253994    0.115878    0.702617   28.148861    2.105710    8.707259  168.537116    2.164946    7.141062    9.197104\n",
            "min      0.006320    0.000000    0.460000    0.000000    0.385000    3.561000    2.900000    1.129600    1.000000  187.000000   12.600000    1.730000    5.000000\n",
            "25%      0.082045    0.000000    5.190000    0.000000    0.449000    5.885500   45.025000    2.100175    4.000000  279.000000   17.400000    6.950000   17.025000\n",
            "50%      0.256510    0.000000    9.690000    0.000000    0.538000    6.208500   77.500000    3.207450    5.000000  330.000000   19.050000   11.360000   21.200000\n",
            "75%      3.647423   12.500000   18.100000    0.000000    0.624000    6.623500   94.075000    5.188425   24.000000  666.000000   20.200000   16.955000   25.000000\n",
            "max     88.976200  100.000000   27.740000    1.000000    0.871000    8.780000  100.000000   12.126500   24.000000  711.000000   22.000000   37.970000   50.000000\n"
          ],
          "name": "stdout"
        }
      ]
    },
    {
      "metadata": {
        "id": "m-RTr19ffIGQ",
        "colab_type": "code",
        "colab": {
          "autoexec": {
            "startup": false,
            "wait_interval": 0
          },
          "base_uri": "https://localhost:8080/",
          "height": 88
        },
        "outputId": "9c0b8416-44e4-46e8-aaaf-d165ebe99acd",
        "executionInfo": {
          "status": "ok",
          "timestamp": 1524934184133,
          "user_tz": 420,
          "elapsed": 261,
          "user": {
            "displayName": "Aaron Philip",
            "photoUrl": "//lh6.googleusercontent.com/-uvaDsL_nsn4/AAAAAAAAAAI/AAAAAAAAAAA/hK8D1PJTd7c/s50-c-k-no/photo.jpg",
            "userId": "108598294357875037151"
          }
        }
      },
      "cell_type": "code",
      "source": [
        "X = bos.drop('PRICE', axis = 1)\n",
        "Y = bos['PRICE']\n",
        "\n",
        "X_train, X_test, Y_train, Y_test = train_test_split(X, Y, test_size = 0.33, random_state = 5)\n",
        "\n",
        "X_train = np.asarray(X_train).T\n",
        "X_test = np.asarray(X_test).T\n",
        "Y_train = np.asarray(Y_train).reshape(1, Y_train.shape[0])\n",
        "Y_test = np.asarray(Y_test).reshape(1, Y_test.shape[0])\n",
        "\n",
        "print(X_train.shape)\n",
        "print(X_test.shape)\n",
        "print(Y_train.shape)\n",
        "print(Y_test.shape)"
      ],
      "execution_count": 10,
      "outputs": [
        {
          "output_type": "stream",
          "text": [
            "(12, 339)\n",
            "(12, 167)\n",
            "(1, 339)\n",
            "(1, 167)\n"
          ],
          "name": "stdout"
        }
      ]
    },
    {
      "metadata": {
        "id": "wi6C7dMhdvPs",
        "colab_type": "text"
      },
      "cell_type": "markdown",
      "source": [
        "### Initializing Parameters\n",
        "\n",
        "We need a function that inputs a matrix size, and then creates a weight matrix and a bias that are initialized to zero.\n",
        "\n",
        "Hint: `np.zeros(shape=(x,y))` returns a numpy array of zeros of shape (x,y)"
      ]
    },
    {
      "metadata": {
        "id": "_vmYtA35dxvh",
        "colab_type": "code",
        "colab": {
          "autoexec": {
            "startup": false,
            "wait_interval": 0
          }
        }
      },
      "cell_type": "code",
      "source": [
        "def initialize_with_zeros(dim):\n",
        "    \"\"\"\n",
        "    This function creates a vector of zeros of shape (dim, 1) for w and initializes b to 0.\n",
        "    \n",
        "    Argument:\n",
        "    dim -- size of the w vector we want (or number of parameters in this case)\n",
        "    \n",
        "    Returns:\n",
        "    w -- initialized vector of shape (dim, 1)\n",
        "    b -- initialized scalar (corresponds to the bias)\n",
        "    \"\"\"\n",
        "    \n",
        "    ### START CODE HERE ### (≈ 2 line of code)\n",
        "    w = np.zeros(shape=(dim,1))\n",
        "    b = 0.0\n",
        "    ### END CODE HERE ###\n",
        "\n",
        "    assert(w.shape == (dim, 1))\n",
        "    assert(isinstance(b, float) or isinstance(b, int))\n",
        "    \n",
        "    return w, b"
      ],
      "execution_count": 0,
      "outputs": []
    },
    {
      "metadata": {
        "id": "fdNfsBnLd8vB",
        "colab_type": "code",
        "colab": {
          "autoexec": {
            "startup": false,
            "wait_interval": 0
          },
          "base_uri": "https://localhost:8080/",
          "height": 70
        },
        "outputId": "d282be16-cef5-4b37-c143-8f3d527bb573",
        "executionInfo": {
          "status": "ok",
          "timestamp": 1524934185065,
          "user_tz": 420,
          "elapsed": 314,
          "user": {
            "displayName": "Aaron Philip",
            "photoUrl": "//lh6.googleusercontent.com/-uvaDsL_nsn4/AAAAAAAAAAI/AAAAAAAAAAA/hK8D1PJTd7c/s50-c-k-no/photo.jpg",
            "userId": "108598294357875037151"
          }
        }
      },
      "cell_type": "code",
      "source": [
        "dim = 2\n",
        "w, b = initialize_with_zeros(dim)\n",
        "print (\"w = \" + str(w))\n",
        "print (\"b = \" + str(b))"
      ],
      "execution_count": 12,
      "outputs": [
        {
          "output_type": "stream",
          "text": [
            "w = [[0.]\n",
            " [0.]]\n",
            "b = 0.0\n"
          ],
          "name": "stdout"
        }
      ]
    },
    {
      "metadata": {
        "id": "8GuBNvOteMSC",
        "colab_type": "text"
      },
      "cell_type": "markdown",
      "source": [
        "### Forward Propagation\n",
        "\n",
        "Now it's time to implement forward propagation. During forward propagation we will compute the model predictions, the cost over all of our samples and the gradients for the weights and bias. Here are the steps we will need to take:\n",
        "\n",
        "1. use the equation $w^{T}X + b$ to compute $A$  *(the capital $X$ means that it is a matrix containing all of our $x^{i}$ samples)*\n",
        "3. use the cost function described earlier to compute our cost $J$\n",
        "4. compute the gradients using the equations given below\n",
        "\n",
        "As a reminder our cost function is $J = \\frac{1}{2m}\\sum _{i = 1}^{m} (a^{i} - y^{i})^{2}$\n",
        "\n",
        "**Gradients:**\n",
        "\n",
        "\n",
        "$$db = \\frac{\\partial J}{\\partial b} = \\frac{1}{m}\\sum _{i = 1}^{m} a^{i} - y^{i}$$\n",
        "$$$$\n",
        "$$dw = \\frac{\\partial J}{\\partial w} = \\frac{1}{m}\\sum _{i = 1}^{m} (a^{i} - y^{i})x^{i}$$\n",
        "\n",
        "If you have taken multivariable calculus then these equations are the partial derivatives of our cost function $J$ with respect to our weights $w$ and our bias $b$. By taking their negatives we can optimize our cost function in the direction of steepest descent. If the last two scentences made no sense then fear not. You can simply implement these equations without fully understanding them. Just know that using these equations we can reduce our cost and move closer to a loss of 0 (i.e. a correct prediction).\n",
        "$$$$\n",
        "\n",
        "Hint: \n",
        "* you can use `np.dot()` to multiply two matrices together\n",
        "* you can use `np.sum()` to take the sum of all the elements in a matrix"
      ]
    },
    {
      "metadata": {
        "id": "aNDNBv7VfDne",
        "colab_type": "code",
        "colab": {
          "autoexec": {
            "startup": false,
            "wait_interval": 0
          }
        }
      },
      "cell_type": "code",
      "source": [
        "def propagate(w, b, X, Y):\n",
        "    \"\"\"\n",
        "    Implement the cost function and its gradient for the propagation explained above\n",
        "\n",
        "    Arguments:\n",
        "    w -- weights, a numpy array of size (12, 1)\n",
        "    b -- bias, a scalar\n",
        "    X -- data of size (12, number of examples)\n",
        "    Y -- house prices (in 1000s)\n",
        "\n",
        "    Return:\n",
        "    cost -- mean squared error\n",
        "    dw -- gradient of the loss with respect to w, thus same shape as w\n",
        "    db -- gradient of the loss with respect to b, thus same shape as b\n",
        "    \n",
        "    Tips:\n",
        "    - Write your code step by step for the propagation\n",
        "    \"\"\"\n",
        "    \n",
        "    m = X.shape[1]\n",
        "    \n",
        "    # FORWARD PROPAGATION (FROM X TO COST)\n",
        "    ### START CODE HERE ### (≈ 2 lines of code)\n",
        "    A = np.dot(w.T, X) + b # compute activation\n",
        "    cost =  1 / (2 * m) * np.sum(( A - Y ) ** 2) # compute cost\n",
        "    ### END CODE HERE ###\n",
        "    \n",
        "    # BACKWARD PROPAGATION (TO FIND GRAD)\n",
        "    ### START CODE HERE ### (≈ 2 lines of code)\n",
        "    dw = 1 / m * np.dot( X, (A - Y).T)\n",
        "    db = 1 / m * np.sum( A - Y )\n",
        "    ### END CODE HERE ###\n",
        "\n",
        "    assert(dw.shape == w.shape)\n",
        "    assert(db.dtype == float)\n",
        "    cost = np.squeeze(cost)\n",
        "    assert(cost.shape == ())\n",
        "    \n",
        "    grads = {\"dw\": dw,\n",
        "             \"db\": db}\n",
        "    \n",
        "    return grads, cost"
      ],
      "execution_count": 0,
      "outputs": []
    },
    {
      "metadata": {
        "id": "DWQ_9fpyfYPd",
        "colab_type": "code",
        "colab": {
          "autoexec": {
            "startup": false,
            "wait_interval": 0
          },
          "base_uri": "https://localhost:8080/",
          "height": 88
        },
        "outputId": "a19b1ef1-8d4c-4339-9090-7f0db148efbd",
        "executionInfo": {
          "status": "ok",
          "timestamp": 1524934186359,
          "user_tz": 420,
          "elapsed": 260,
          "user": {
            "displayName": "Aaron Philip",
            "photoUrl": "//lh6.googleusercontent.com/-uvaDsL_nsn4/AAAAAAAAAAI/AAAAAAAAAAA/hK8D1PJTd7c/s50-c-k-no/photo.jpg",
            "userId": "108598294357875037151"
          }
        }
      },
      "cell_type": "code",
      "source": [
        "w, b, X, Y = np.array([[1], [2]]), 2, np.array([[1,2], [3,4]]), np.array([[1, 0]])\n",
        "grads, cost = propagate(w, b, X, Y)\n",
        "print (\"dw = \" + str(grads[\"dw\"]))\n",
        "print (\"db = \" + str(grads[\"db\"]))\n",
        "print (\"cost = \" + str(cost))"
      ],
      "execution_count": 14,
      "outputs": [
        {
          "output_type": "stream",
          "text": [
            "dw = [[16.]\n",
            " [36.]]\n",
            "db = 10.0\n",
            "cost = 52.0\n"
          ],
          "name": "stdout"
        }
      ]
    },
    {
      "metadata": {
        "id": "V5hBl0vqfXER",
        "colab_type": "text"
      },
      "cell_type": "markdown",
      "source": [
        "Expected Output:\n",
        "\n",
        "* dw = [[16.] [ 36.]]\n",
        "* db = 10.0\n",
        "* cost = 52.0"
      ]
    },
    {
      "metadata": {
        "id": "icm10Ef3gHkB",
        "colab_type": "text"
      },
      "cell_type": "markdown",
      "source": [
        "### Backpropagation\n",
        "\n",
        "Now we want to use the gradients that we computed earlier to perform back propagation. Back propagation is process we use to update our weights bias by a small amount so that our model gets a little better better at making predictions. Here are the equations in case you forgot:\n",
        "\n",
        "$$w = w - \\alpha * dw$$\n",
        "$$b = b - \\alpha * db$$\n",
        "\n",
        "$\\alpha$ is our learning rate, which is often a small number like .01, .001, or .000001. If you remember from the slides, we want to update our weights and bias without overshooting the minimum for our cost function. The picture below illustrates this.\n",
        "\n",
        "<img src=\"https://storage.googleapis.com/aibootcamp/Week%201/assets/divergence.jpg\" width=\"350\" height=\"240\"/>"
      ]
    },
    {
      "metadata": {
        "id": "39ly_7vTgNzT",
        "colab_type": "code",
        "colab": {
          "autoexec": {
            "startup": false,
            "wait_interval": 0
          }
        }
      },
      "cell_type": "code",
      "source": [
        "def optimize(w, b, X, Y, num_iterations, learning_rate, print_cost = False):\n",
        "    \"\"\"\n",
        "    This function optimizes w and b by running a gradient descent algorithm\n",
        "    \n",
        "    Arguments:\n",
        "    w -- weights, a numpy array of size (12, 1)\n",
        "    b -- bias, a scalar\n",
        "    X -- data of shape (12, number of examples)\n",
        "    Y -- house prices (in 1000s)\n",
        "    num_iterations -- number of iterations of the optimization loop\n",
        "    learning_rate -- learning rate of the gradient descent update rule\n",
        "    print_cost -- True to print the loss every 100 steps\n",
        "    \n",
        "    Returns:\n",
        "    params -- dictionary containing the weights w and bias b\n",
        "    grads -- dictionary containing the gradients of the weights and bias with respect to the cost function\n",
        "    costs -- list of all the costs computed during the optimization, this will be used to plot the learning curve.\n",
        "    \n",
        "    Tips:\n",
        "    You basically need to write down two steps and iterate through them:\n",
        "        1) Calculate the cost and the gradient for the current parameters. Use propagate().\n",
        "        2) Update the parameters using gradient descent rule for w and b.\n",
        "    \"\"\"\n",
        "    \n",
        "    costs = []\n",
        "    \n",
        "    for i in range(num_iterations):\n",
        "        \n",
        "        \n",
        "        # Cost and gradient calculation (≈ 1 line of code)\n",
        "        ### START CODE HERE ### \n",
        "        grads, cost = propagate(w, b, X, Y)\n",
        "        ### END CODE HERE ###\n",
        "        \n",
        "        # Retrieve derivatives from grads\n",
        "        dw = grads[\"dw\"]\n",
        "        db = grads[\"db\"]\n",
        "        \n",
        "        # update rule (≈ 2 lines of code)\n",
        "        ### START CODE HERE ###\n",
        "        w = w - learning_rate * dw\n",
        "        b = b - learning_rate * db\n",
        "        ### END CODE HERE ###\n",
        "        \n",
        "        # Record the costs\n",
        "        if i != 0 and i % 1000 == 0:\n",
        "            costs.append(cost)\n",
        "        \n",
        "        # Print the cost every 1000 training examples\n",
        "        if print_cost and i != 0 and i % 1000 == 0:\n",
        "            print (\"Cost after iteration %i: %f\" % (i, cost))\n",
        "    \n",
        "    params = {\"w\": w,\n",
        "              \"b\": b}\n",
        "    \n",
        "    grads = {\"dw\": dw,\n",
        "             \"db\": db}\n",
        "    \n",
        "    return params, grads, costs"
      ],
      "execution_count": 0,
      "outputs": []
    },
    {
      "metadata": {
        "id": "5ivgLqBAgooY",
        "colab_type": "code",
        "colab": {
          "autoexec": {
            "startup": false,
            "wait_interval": 0
          },
          "base_uri": "https://localhost:8080/",
          "height": 124
        },
        "outputId": "437ad1f3-1643-4fe6-d3ab-7ac8ec216eaf",
        "executionInfo": {
          "status": "ok",
          "timestamp": 1524934187630,
          "user_tz": 420,
          "elapsed": 257,
          "user": {
            "displayName": "Aaron Philip",
            "photoUrl": "//lh6.googleusercontent.com/-uvaDsL_nsn4/AAAAAAAAAAI/AAAAAAAAAAA/hK8D1PJTd7c/s50-c-k-no/photo.jpg",
            "userId": "108598294357875037151"
          }
        }
      },
      "cell_type": "code",
      "source": [
        "params, grads, costs = optimize(w, b, X, Y, num_iterations= 100, learning_rate = 0.009, print_cost = False)\n",
        "\n",
        "print (\"w = \" + str(params[\"w\"]))\n",
        "print (\"b = \" + str(params[\"b\"]))\n",
        "print (\"dw = \" + str(grads[\"dw\"]))\n",
        "print (\"db = \" + str(grads[\"db\"]))"
      ],
      "execution_count": 16,
      "outputs": [
        {
          "output_type": "stream",
          "text": [
            "w = [[-0.08140605]\n",
            " [-0.24334521]]\n",
            "b = 1.419030420562572\n",
            "dw = [[ 0.08670598]\n",
            " [-0.02296021]]\n",
            "db = -0.05483309171519252\n"
          ],
          "name": "stdout"
        }
      ]
    },
    {
      "metadata": {
        "id": "GIB36aWsgiYH",
        "colab_type": "text"
      },
      "cell_type": "markdown",
      "source": [
        "Expected Output:\n",
        "* **w = ** [[-0.08140605] [-0.24334521]]\n",
        "* **b = ** 1.419030420562572\n",
        "* **dw = ** [[ 0.08670598] [-0.02296021]]\n",
        "* **db = ** -0.05483309171519252"
      ]
    },
    {
      "metadata": {
        "id": "8SOFU5MTiCK3",
        "colab_type": "text"
      },
      "cell_type": "markdown",
      "source": [
        "### Predictions\n",
        "\n",
        "Once we have trained our model, we need a way to use it. For that we will create a function called predict that will take an input of training samples, a weight matrix and a bias, and then output predictions price of the house.\n",
        "\n",
        "$$A = w^{T}X + b$$"
      ]
    },
    {
      "metadata": {
        "id": "-0DPno_EiBBn",
        "colab_type": "code",
        "colab": {
          "autoexec": {
            "startup": false,
            "wait_interval": 0
          }
        }
      },
      "cell_type": "code",
      "source": [
        "def predict(w, b, X):\n",
        "    '''\n",
        "    Predict the house price using learned linear regression parameters (w, b)\n",
        "    \n",
        "    Arguments:\n",
        "    w -- weights, a numpy array of size (12, 1)\n",
        "    b -- bias, a scalar\n",
        "    X -- data of size (12, number of examples)\n",
        "    \n",
        "    Returns:\n",
        "    Y_prediction -- a numpy array (vector) containing all predictions (0/1) for the examples in X\n",
        "    '''\n",
        "    \n",
        "    m = X.shape[1]\n",
        "    \n",
        "    # Compute vector \"A\" predicting the the house price\n",
        "    ### START CODE HERE ### (≈ 1 line of code)\n",
        "    prediction = np.dot(w.T, X) + b\n",
        "    ### END CODE HERE ###\n",
        "    \n",
        "    assert(prediction.shape == (1, m))\n",
        "    \n",
        "    return prediction"
      ],
      "execution_count": 0,
      "outputs": []
    },
    {
      "metadata": {
        "id": "dFRKiF1XimEk",
        "colab_type": "code",
        "colab": {
          "autoexec": {
            "startup": false,
            "wait_interval": 0
          },
          "base_uri": "https://localhost:8080/",
          "height": 35
        },
        "outputId": "579a93ba-b4be-4937-bd91-b21291fa0ef3",
        "executionInfo": {
          "status": "ok",
          "timestamp": 1524934188714,
          "user_tz": 420,
          "elapsed": 268,
          "user": {
            "displayName": "Aaron Philip",
            "photoUrl": "//lh6.googleusercontent.com/-uvaDsL_nsn4/AAAAAAAAAAI/AAAAAAAAAAA/hK8D1PJTd7c/s50-c-k-no/photo.jpg",
            "userId": "108598294357875037151"
          }
        }
      },
      "cell_type": "code",
      "source": [
        "print(\"predictions = \" + str(predict(w, b, X)))"
      ],
      "execution_count": 18,
      "outputs": [
        {
          "output_type": "stream",
          "text": [
            "predictions = [[ 9 12]]\n"
          ],
          "name": "stdout"
        }
      ]
    },
    {
      "metadata": {
        "id": "BOiVxBqmio0G",
        "colab_type": "text"
      },
      "cell_type": "markdown",
      "source": [
        "Expected output:\n",
        "* [[9 12]]"
      ]
    },
    {
      "metadata": {
        "id": "bbIDA11EjLXk",
        "colab_type": "text"
      },
      "cell_type": "markdown",
      "source": [
        "### Model\n",
        "\n",
        "Now that we all the pieces of linear regression, lets put all together into one function. \n",
        "\n",
        "Implement the model function. Use the following notation:\n",
        "\n",
        "* `prediction_test` for your predictions on the test set\n",
        "* `prediction_train` for your predictions on the train set\n",
        "* `w`, `costs`, `grads` for the outputs of optimize()"
      ]
    },
    {
      "metadata": {
        "id": "_DPxJbsUjTG3",
        "colab_type": "code",
        "colab": {
          "autoexec": {
            "startup": false,
            "wait_interval": 0
          }
        }
      },
      "cell_type": "code",
      "source": [
        "def model(X_train, Y_train, X_test, Y_test, num_iterations=2000, learning_rate=0.01, print_cost=False):\n",
        "    \"\"\"\n",
        "    Builds the linear regression model by calling the function you've implemented previously\n",
        "    \n",
        "    Arguments:\n",
        "    X_train -- training set represented by a numpy array of shape (12, m_train)\n",
        "    Y_train -- training labels represented by a numpy array (vector) of shape (1, m_train)\n",
        "    X_test -- test set represented by a numpy array of shape (12, m_test)\n",
        "    Y_test -- test labels represented by a numpy array (vector) of shape (1, m_test)\n",
        "    num_iterations -- hyperparameter representing the number of iterations to optimize the parameters\n",
        "    learning_rate -- hyperparameter representing the learning rate used in the update rule of optimize()\n",
        "    print_cost -- Set to true to print the cost every 100 iterations\n",
        "    \n",
        "    Returns:\n",
        "    d -- dictionary containing information about the model.\n",
        "    \"\"\"\n",
        "    \n",
        "    ### START CODE HERE ###\n",
        "    # initialize parameters with zeros (≈ 1 line of code)\n",
        "    w, b = initialize_with_zeros(X_train.shape[0])\n",
        "\n",
        "    # Gradient descent (≈ 1 line of code)\n",
        "    parameters, grads, costs = optimize(w, b, X_train, Y_train, num_iterations, learning_rate, print_cost)\n",
        "    \n",
        "    # Retrieve parameters w and b from dictionary \"parameters\"\n",
        "    w = parameters[\"w\"]\n",
        "    b = parameters[\"b\"]\n",
        "    \n",
        "    # Predict test/train set examples (≈ 2 lines of code)\n",
        "    prediction_test = predict(w, b, X_test)\n",
        "    prediction_train = predict(w, b, X_train)\n",
        "\n",
        "    \n",
        "    ### END CODE HERE ###\n",
        "\n",
        "    #convert error to RMSE\n",
        "    train_rmse = np.sqrt( 1 / X_train.shape[1] * np.sum(( prediction_train - Y_train ) ** 2) )\n",
        "    test_rmse = np.sqrt( 1 / X_test.shape[1] * np.sum(( prediction_test - Y_test ) ** 2) )\n",
        "    \n",
        "    # Print train/test Errors\n",
        "    print(\"\\ntrain RMSE: {}\".format(train_rmse))\n",
        "    print(\"test RMSE: {}\".format(test_rmse))\n",
        "\n",
        "    \n",
        "    d = {\"costs\": costs,\n",
        "         \"Y_prediction_test\": prediction_test, \n",
        "         \"Y_prediction_train\" : prediction_train, \n",
        "         \"w\" : w, \n",
        "         \"b\" : b,\n",
        "         \"learning_rate\" : learning_rate,\n",
        "         \"num_iterations\": num_iterations}\n",
        "    \n",
        "    return d"
      ],
      "execution_count": 0,
      "outputs": []
    },
    {
      "metadata": {
        "id": "P57JZtZGkPyn",
        "colab_type": "code",
        "colab": {
          "autoexec": {
            "startup": false,
            "wait_interval": 0
          },
          "base_uri": "https://localhost:8080/",
          "height": 941
        },
        "outputId": "b7147d1d-25b5-4a85-9444-762b18ef8979",
        "executionInfo": {
          "status": "ok",
          "timestamp": 1524934191794,
          "user_tz": 420,
          "elapsed": 2401,
          "user": {
            "displayName": "Aaron Philip",
            "photoUrl": "//lh6.googleusercontent.com/-uvaDsL_nsn4/AAAAAAAAAAI/AAAAAAAAAAA/hK8D1PJTd7c/s50-c-k-no/photo.jpg",
            "userId": "108598294357875037151"
          }
        }
      },
      "cell_type": "code",
      "source": [
        "d = model(X_train, Y_train, X_test, Y_test, num_iterations = 50000, learning_rate = 0.00001, print_cost = True)"
      ],
      "execution_count": 20,
      "outputs": [
        {
          "output_type": "stream",
          "text": [
            "Cost after iteration 1000: 41.532831\n",
            "Cost after iteration 2000: 34.101232\n",
            "Cost after iteration 3000: 30.392752\n",
            "Cost after iteration 4000: 28.253835\n",
            "Cost after iteration 5000: 26.889054\n",
            "Cost after iteration 6000: 25.956746\n",
            "Cost after iteration 7000: 25.286086\n",
            "Cost after iteration 8000: 24.781177\n",
            "Cost after iteration 9000: 24.384196\n",
            "Cost after iteration 10000: 24.058890\n",
            "Cost after iteration 11000: 23.782041\n",
            "Cost after iteration 12000: 23.538586\n",
            "Cost after iteration 13000: 23.318655\n",
            "Cost after iteration 14000: 23.115720\n",
            "Cost after iteration 15000: 22.925419\n",
            "Cost after iteration 16000: 22.744802\n",
            "Cost after iteration 17000: 22.571843\n",
            "Cost after iteration 18000: 22.405129\n",
            "Cost after iteration 19000: 22.243655\n",
            "Cost after iteration 20000: 22.086691\n",
            "Cost after iteration 21000: 21.933695\n",
            "Cost after iteration 22000: 21.784253\n",
            "Cost after iteration 23000: 21.638047\n",
            "Cost after iteration 24000: 21.494821\n",
            "Cost after iteration 25000: 21.354369\n",
            "Cost after iteration 26000: 21.216521\n",
            "Cost after iteration 27000: 21.081134\n",
            "Cost after iteration 28000: 20.948088\n",
            "Cost after iteration 29000: 20.817276\n",
            "Cost after iteration 30000: 20.688610\n",
            "Cost after iteration 31000: 20.562008\n",
            "Cost after iteration 32000: 20.437401\n",
            "Cost after iteration 33000: 20.314725\n",
            "Cost after iteration 34000: 20.193923\n",
            "Cost after iteration 35000: 20.074944\n",
            "Cost after iteration 36000: 19.957740\n",
            "Cost after iteration 37000: 19.842270\n",
            "Cost after iteration 38000: 19.728493\n",
            "Cost after iteration 39000: 19.616372\n",
            "Cost after iteration 40000: 19.505873\n",
            "Cost after iteration 41000: 19.396964\n",
            "Cost after iteration 42000: 19.289615\n",
            "Cost after iteration 43000: 19.183797\n",
            "Cost after iteration 44000: 19.079481\n",
            "Cost after iteration 45000: 18.976644\n",
            "Cost after iteration 46000: 18.875259\n",
            "Cost after iteration 47000: 18.775302\n",
            "Cost after iteration 48000: 18.676751\n",
            "Cost after iteration 49000: 18.579584\n",
            "\n",
            "train RMSE: 6.0800950740323705\n",
            "test RMSE: 6.491753239651829\n"
          ],
          "name": "stdout"
        }
      ]
    },
    {
      "metadata": {
        "id": "pmv7Zwl4v-Kq",
        "colab_type": "text"
      },
      "cell_type": "markdown",
      "source": [
        "Expected Output:\n",
        "* train RMSE: 6.0800950740323705\n",
        "* test RMSE: 6.491753239651829"
      ]
    },
    {
      "metadata": {
        "id": "6F99LMbTmjD8",
        "colab_type": "code",
        "colab": {
          "autoexec": {
            "startup": false,
            "wait_interval": 0
          },
          "base_uri": "https://localhost:8080/",
          "height": 376
        },
        "outputId": "1ec409af-5188-4e32-db91-8c10d94a6c3d",
        "executionInfo": {
          "status": "ok",
          "timestamp": 1524934192445,
          "user_tz": 420,
          "elapsed": 613,
          "user": {
            "displayName": "Aaron Philip",
            "photoUrl": "//lh6.googleusercontent.com/-uvaDsL_nsn4/AAAAAAAAAAI/AAAAAAAAAAA/hK8D1PJTd7c/s50-c-k-no/photo.jpg",
            "userId": "108598294357875037151"
          }
        }
      },
      "cell_type": "code",
      "source": [
        "costs = np.squeeze(d['costs'])\n",
        "plt.plot(costs)\n",
        "plt.ylabel('cost')\n",
        "plt.xlabel('iterations (per thousands)')\n",
        "plt.title(\"Learning rate =\" + str(d[\"learning_rate\"]))\n",
        "plt.show()"
      ],
      "execution_count": 21,
      "outputs": [
        {
          "output_type": "display_data",
          "data": {
            "image/png": "[encoded data removed]",
            "text/plain": [
              "<matplotlib.figure.Figure at 0x7f9509df74a8>"
            ]
          },
          "metadata": {
            "tags": []
          }
        }
      ]
    }
  ]
}